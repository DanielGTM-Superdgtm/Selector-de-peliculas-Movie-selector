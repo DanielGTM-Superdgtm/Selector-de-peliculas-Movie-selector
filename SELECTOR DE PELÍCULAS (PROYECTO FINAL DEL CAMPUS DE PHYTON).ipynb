{
 "cells": [
  {
   "cell_type": "markdown",
   "id": "def67713",
   "metadata": {},
   "source": [
    "# MENÚ DE PELÍCULAS (PROYECTO DEL CAMPUS SENIOR DE PYTHON)"
   ]
  },
  {
   "cell_type": "markdown",
   "id": "330304d8",
   "metadata": {},
   "source": [
    "## PROGRAMACIÓN POR DANIEL GARCÍA"
   ]
  },
  {
   "cell_type": "code",
   "execution_count": 164,
   "id": "8550d6b9",
   "metadata": {},
   "outputs": [],
   "source": [
    "fin = 0\n",
    "peliculas = {'todas': ['Sonic la película', 'Sonic 2 la película', 'Spiderman', 'Sonic 3',\n",
    "                       \"Super Mario Bros. La película\", 'Avengers: Infinity War', 'Avengers: Endgame',\n",
    "                       'Los juegos del hambre', 'Shrek 2', 'El castillo ambulante']} \n",
    "vistas = {'Sonic la película': ['14-02-2020', '31-03-2020'], 'Sonic 2 la película': ['01-04-2022', '08-04-2022'],\n",
    "           'Spiderman': ['15-03-2024'],\"Super Mario Bros. La película\": ['05-04-2023'], \n",
    "           'Avengers: Infinity War': ['30-04-2018'], 'Avengers: Endgame': ['26-04-2018'],\n",
    "            'Los juegos del hambre': ['21-05-2024'] } \n",
    "no_vistas = ['Shrek 2', 'El castillo ambulante']\n",
    "veces = { 'Sonic la película': 9, 'Sonic 2 la película': 9,\n",
    "           'Spiderman': 1,\"Super Mario Bros. La película\": 4, \n",
    "        'Avengers: Infinity War': 1, 'Avengers: Endgame': 1,\n",
    "            'Los juegos del hambre': 1 }\n",
    "#MENÚ:\n",
    "#1.Ver todas las pelis (con solo títulos)\n",
    "def VerPelis():\n",
    "    print (\"\\nPelículas en tu lista:\\n\",peliculas['todas'])\n",
    "#2.Ver todas las pelis (con fechas)\n",
    "def VerPelisFechas ():\n",
    "    print (vistas)\n",
    "#3.Ver pelis que no se han visto\n",
    "def VerPelisNoVistas():\n",
    "    print (no_vistas)\n",
    "#4.Ver veces que se ha visto una película\n",
    "def VerVeces ():\n",
    "    print (veces)\n",
    "#5.Añadir pelis\n",
    "def AnadirPelis():\n",
    "    añadir = input(\"\\nEscribe el nombre de la película que vas a añadir\\n\")\n",
    "    vista = (input (\"¿La has visto?\\n\")).lower()\n",
    "    if vista == 'si' or vista == 'sí':\n",
    "        fecha = input (\"Pon la fecha en la que la has visto\\n\")\n",
    "        vec = input (\"¿Cuantas veces la has visto?\\n\")\n",
    "        (peliculas['todas']).append(añadir)\n",
    "        vistas[añadir] = [fecha]\n",
    "        veces[añadir] = [vec]\n",
    "    else:\n",
    "        (peliculas['todas']).append(añadir)\n",
    "        no_vistas.append(añadir)\n",
    "#6.Eliminar\n",
    "def Eliminar ():\n",
    "    basura = input(\"\\nEscribe el nomnbre de la pelicula que quieres eliminar:\\n\")\n",
    "    (peliculas['todas']).remove (basura)\n",
    "    if basura in vistas.keys(): \n",
    "        vistas.pop (basura)\n",
    "        veces.pop (basura)\n",
    "    elif basura in no_vistas: \n",
    "        no_vistas.remove(basura) \n",
    "    \n",
    "#7.Marcar como vista\n",
    "def Marcar ():\n",
    "    viste = input  (\"\\nEscribe el nombre de la pelicula que ya has visto (tiene que estar en la lista de peliculas no vistas)\\n\")\n",
    "    vez = input (\"¿Cuantas veces has visto \"+ viste + \"?\\n\")\n",
    "    fec = input (\"Cuando viste \"+ viste +\"?\\n\")\n",
    "    if viste in no_vistas:\n",
    "        no_vistas.remove(viste)\n",
    "        (peliculas['todas']).append(viste)\n",
    "        veces[viste] = vez\n",
    "        vistas[viste] = [fec]\n",
    "    elif not (viste in no_vistas):\n",
    "        print (viste,\"no está en la lista\")\n",
    "#8.Salir\n",
    "def Salir ():\n",
    "    print (\"Saliendo...\")\n",
    "    fin = 1\n",
    "#MENÚ\n",
    "def ImprimirMenu ():\n",
    "    print(\"     ____  ________    ____________  ____    ___   _____\")\n",
    "    print(\"    / __ \\/ ____/ /   /  _/ ____/ / / / /   /   | / ___/\")\n",
    "    print(\"   / /_/ / __/ / /    / // /   / / / / /   / /| | \\__ \\ \" )\n",
    "    print(\"  / ____/ /___/ /____/ // /___/ /_/ / /___/ ___ |___/ /\") \n",
    "    print(\" /_/   /_____/_____/___/\\____/\\____/_____/_/  |_/____/\" ) \n",
    "                                                       \n",
    "    print (\"\\n\\nMENU\")\n",
    "    print (\"------------------------------------------------\")\n",
    "    print (\"1.Ver todas las pelis ( con fechas incluidas )\")\n",
    "    print (\"2. Ver todas las pelis ( solo titulos )\")\n",
    "    print (\"3.Ver pelis que no se han visto\")\n",
    "    print (\"4.Ver veces que se ha visto una película\")\n",
    "    print (\"5.Añadir pelis\")\n",
    "    print (\"6.Eliminar\")\n",
    "    print (\"7.Marcar como vista\")\n",
    "    print (\"8.Salir\")\n",
    "    print (\"------------------------------------------------\\n\\n\")\n",
    "    opcion = input (\"¿Qué opción quiere realizar \")\n",
    "    opcion = int (opcion)\n",
    "    if opcion == 1:\n",
    "        VerPelisFechas ()\n",
    "        ImprimirMenu ()\n",
    "    elif opcion == 2:\n",
    "        VerPelis ()\n",
    "        ImprimirMenu ()\n",
    "    elif opcion == 3:\n",
    "        VerPelisNoVistas ()\n",
    "        ImprimirMenu ()\n",
    "    elif opcion == 4:\n",
    "        VerVeces ()\n",
    "        ImprimirMenu ()\n",
    "    elif opcion == 5:\n",
    "        AnadirPelis ()\n",
    "        ImprimirMenu ()\n",
    "    elif opcion == 6:\n",
    "        Eliminar ()\n",
    "        ImprimirMenu ()\n",
    "    elif opcion == 7:\n",
    "        Marcar ()\n",
    "        ImprimirMenu ()\n",
    "    elif opcion == 8:\n",
    "        Salir ()\n",
    "    elif opcion == 9 or opcion < 9 or opcion == 0 or opcion < 0:\n",
    "        print (\"Opción no valida\\n\\n\")\n",
    "        ImprimirMenu ()\n",
    "    else:\n",
    "        print (\"Opción no valida\\n\\n\")\n",
    "        ImprimirMenu ()"
   ]
  },
  {
   "cell_type": "code",
   "execution_count": 130,
   "id": "1e6799ad",
   "metadata": {},
   "outputs": [
    {
     "name": "stdout",
     "output_type": "stream",
     "text": [
      "Películas en tu lista:\n",
      " ['Sonic la película', 'Sonic 2 la película', 'Spiderman', 'Sonic 3', 'Super Mario Bros. La película', 'Avengers: Infinity War', 'Avengers: Endgame', 'Los juegos del hambre', 'Shrek 2', 'El castillo ambulante']\n"
     ]
    }
   ],
   "source": [
    "VerPelis()"
   ]
  },
  {
   "cell_type": "code",
   "execution_count": 131,
   "id": "0b7382ce",
   "metadata": {},
   "outputs": [
    {
     "name": "stdout",
     "output_type": "stream",
     "text": [
      "{'Sonic la película': ['14-02-2020', '31-03-2020'], 'Sonic 2 la película': ['01-04-2022', '08-04-2022'], 'Spiderman': ['15-03-2024'], 'Super Mario Bros. La película': ['05-04-2023'], 'Avengers: Infinity War': ['30-04-2018'], 'Avengers: Endgame': ['26-04-2018'], 'Los juegos del hambre': ['21-05-2024']}\n"
     ]
    }
   ],
   "source": [
    "VerPelisFechas()"
   ]
  },
  {
   "cell_type": "code",
   "execution_count": 138,
   "id": "289f6dd3",
   "metadata": {
    "scrolled": true
   },
   "outputs": [
    {
     "name": "stdout",
     "output_type": "stream",
     "text": [
      "['Shrek 2']\n"
     ]
    }
   ],
   "source": [
    "VerPelisNoVistas ()"
   ]
  },
  {
   "cell_type": "code",
   "execution_count": 133,
   "id": "ccb853ab",
   "metadata": {
    "scrolled": false
   },
   "outputs": [
    {
     "name": "stdout",
     "output_type": "stream",
     "text": [
      "Escribe el nombre de la película que vas a añadir\n",
      "nada\n",
      "¿La has visto?\n",
      "no\n"
     ]
    }
   ],
   "source": [
    "AnadirPelis()"
   ]
  },
  {
   "cell_type": "code",
   "execution_count": 134,
   "id": "d4eb8faa",
   "metadata": {
    "scrolled": true
   },
   "outputs": [
    {
     "name": "stdout",
     "output_type": "stream",
     "text": [
      "{'Sonic la película': 9, 'Sonic 2 la película': 9, 'Spiderman': 1, 'Super Mario Bros. La película': 4, 'Avengers: Infinity War': 1, 'Avengers: Endgame': 1, 'Los juegos del hambre': 1}\n"
     ]
    }
   ],
   "source": [
    "VerVeces ()"
   ]
  },
  {
   "cell_type": "code",
   "execution_count": 135,
   "id": "a46e946b",
   "metadata": {
    "scrolled": true
   },
   "outputs": [
    {
     "name": "stdout",
     "output_type": "stream",
     "text": [
      "Escribe el nomnbre de la pelicula que quieres eliminar:\n",
      "nada\n"
     ]
    }
   ],
   "source": [
    "Eliminar ()"
   ]
  },
  {
   "cell_type": "code",
   "execution_count": 137,
   "id": "0fed4863",
   "metadata": {
    "scrolled": true
   },
   "outputs": [
    {
     "name": "stdout",
     "output_type": "stream",
     "text": [
      "Escribe el nombre de la pelicula que ya has visto (tiene que estar en la lista de peliculas no vistas)\n",
      "El castillo ambulante\n",
      "¿Cuantas veces has visto El castillo ambulante?\n",
      "2\n",
      "Cuando viste El castillo ambulante?\n",
      "28-06-2024\n"
     ]
    }
   ],
   "source": [
    "Marcar ()"
   ]
  },
  {
   "cell_type": "code",
   "execution_count": null,
   "id": "475ca0e9",
   "metadata": {
    "scrolled": false
   },
   "outputs": [
    {
     "name": "stdout",
     "output_type": "stream",
     "text": [
      "     ____  ________    ____________  ____    ___   _____\n",
      "    / __ \\/ ____/ /   /  _/ ____/ / / / /   /   | / ___/\n",
      "   / /_/ / __/ / /    / // /   / / / / /   / /| | \\__ \\ \n",
      "  / ____/ /___/ /____/ // /___/ /_/ / /___/ ___ |___/ /\n",
      " /_/   /_____/_____/___/\\____/\\____/_____/_/  |_/____/\n",
      "\n",
      "\n",
      "MENU\n",
      "------------------------------------------------\n",
      "1.Ver todas las pelis ( con fechas incluidas )\n",
      "2. Ver todas las pelis ( solo titulos )\n",
      "3.Ver pelis que no se han visto\n",
      "4.Ver veces que se ha visto una película\n",
      "5.Añadir pelis\n",
      "6.Eliminar\n",
      "7.Marcar como vista\n",
      "8.Salir\n",
      "------------------------------------------------\n",
      "\n",
      "\n",
      "¿Qué opción quiere realizar 1\n",
      "{'Sonic la película': ['14-02-2020', '31-03-2020'], 'Sonic 2 la película': ['01-04-2022', '08-04-2022'], 'Spiderman': ['15-03-2024'], 'Super Mario Bros. La película': ['05-04-2023'], 'Avengers: Infinity War': ['30-04-2018'], 'Avengers: Endgame': ['26-04-2018'], 'Los juegos del hambre': ['21-05-2024']}\n",
      "     ____  ________    ____________  ____    ___   _____\n",
      "    / __ \\/ ____/ /   /  _/ ____/ / / / /   /   | / ___/\n",
      "   / /_/ / __/ / /    / // /   / / / / /   / /| | \\__ \\ \n",
      "  / ____/ /___/ /____/ // /___/ /_/ / /___/ ___ |___/ /\n",
      " /_/   /_____/_____/___/\\____/\\____/_____/_/  |_/____/\n",
      "\n",
      "\n",
      "MENU\n",
      "------------------------------------------------\n",
      "1.Ver todas las pelis ( con fechas incluidas )\n",
      "2. Ver todas las pelis ( solo titulos )\n",
      "3.Ver pelis que no se han visto\n",
      "4.Ver veces que se ha visto una película\n",
      "5.Añadir pelis\n",
      "6.Eliminar\n",
      "7.Marcar como vista\n",
      "8.Salir\n",
      "------------------------------------------------\n",
      "\n",
      "\n",
      "¿Qué opción quiere realizar 1\n",
      "{'Sonic la película': ['14-02-2020', '31-03-2020'], 'Sonic 2 la película': ['01-04-2022', '08-04-2022'], 'Spiderman': ['15-03-2024'], 'Super Mario Bros. La película': ['05-04-2023'], 'Avengers: Infinity War': ['30-04-2018'], 'Avengers: Endgame': ['26-04-2018'], 'Los juegos del hambre': ['21-05-2024']}\n",
      "     ____  ________    ____________  ____    ___   _____\n",
      "    / __ \\/ ____/ /   /  _/ ____/ / / / /   /   | / ___/\n",
      "   / /_/ / __/ / /    / // /   / / / / /   / /| | \\__ \\ \n",
      "  / ____/ /___/ /____/ // /___/ /_/ / /___/ ___ |___/ /\n",
      " /_/   /_____/_____/___/\\____/\\____/_____/_/  |_/____/\n",
      "\n",
      "\n",
      "MENU\n",
      "------------------------------------------------\n",
      "1.Ver todas las pelis ( con fechas incluidas )\n",
      "2. Ver todas las pelis ( solo titulos )\n",
      "3.Ver pelis que no se han visto\n",
      "4.Ver veces que se ha visto una película\n",
      "5.Añadir pelis\n",
      "6.Eliminar\n",
      "7.Marcar como vista\n",
      "8.Salir\n",
      "------------------------------------------------\n",
      "\n",
      "\n"
     ]
    }
   ],
   "source": [
    "ImprimirMenu ()"
   ]
  }
 ],
 "metadata": {
  "kernelspec": {
   "display_name": "Python 3 (ipykernel)",
   "language": "python",
   "name": "python3"
  },
  "language_info": {
   "codemirror_mode": {
    "name": "ipython",
    "version": 3
   },
   "file_extension": ".py",
   "mimetype": "text/x-python",
   "name": "python",
   "nbconvert_exporter": "python",
   "pygments_lexer": "ipython3",
   "version": "3.8.16"
  }
 },
 "nbformat": 4,
 "nbformat_minor": 5
}
